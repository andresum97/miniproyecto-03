{
 "cells": [
  {
   "cell_type": "markdown",
   "metadata": {},
   "source": [
    "# Mini proyecto 03\n",
    "\n",
    "### Gustavo de Leon - 17085\n",
    "### Andrés Urízar - 17632"
   ]
  },
  {
   "cell_type": "markdown",
   "metadata": {},
   "source": [
    "\n",
    "\n",
    "## Datos a considerar\n",
    "\n",
    "Gorilla Megacomputing - Servidor único y atiende 100 solicitudes por segundo\n",
    "Ants smart computing - Múltiples servidores, solo pago por lo que necesito, y cada servidor tiene a lo sumo una décima parte de la potencia del servidor de Gorilla.\n",
    "\n",
    "Jamás se excederan las 2400 solicitudes por minuto | 40 solicitudes por segundo\n",
    "\n",
    "Asumir que cuando una solicitud llega al servidor, y está ocupado, esta entra en cola (FIFO / PEPS)."
   ]
  },
  {
   "cell_type": "markdown",
   "metadata": {},
   "source": [
    "# Task 1 "
   ]
  },
  {
   "cell_type": "code",
   "execution_count": null,
   "metadata": {},
   "outputs": [],
   "source": []
  }
 ],
 "metadata": {
  "kernelspec": {
   "display_name": "Python 3.8.2 64-bit",
   "language": "python",
   "name": "python38264bit581bdb01438749c6a23538b9181fe9ef"
  },
  "language_info": {
   "codemirror_mode": {
    "name": "ipython",
    "version": 3
   },
   "file_extension": ".py",
   "mimetype": "text/x-python",
   "name": "python",
   "nbconvert_exporter": "python",
   "pygments_lexer": "ipython3",
   "version": "3.8.2"
  }
 },
 "nbformat": 4,
 "nbformat_minor": 4
}
