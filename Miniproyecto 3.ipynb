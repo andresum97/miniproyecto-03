{
 "cells": [
  {
   "cell_type": "markdown",
   "metadata": {},
   "source": [
    "# Mini proyecto 03\n",
    "\n",
    "### Gustavo de Leon - 17085\n",
    "### Andrés Urízar - 17632"
   ]
  },
  {
   "cell_type": "markdown",
   "metadata": {},
   "source": [
    "\n",
    "\n",
    "## Datos a considerar\n",
    "\n",
    "Gorilla Megacomputing - Servidor único y atiende 100 solicitudes por segundo\n",
    "Ants smart computing - Múltiples servidores, solo pago por lo que necesito, y cada servidor tiene a lo sumo una décima parte de la potencia del servidor de Gorilla.\n",
    "\n",
    "Jamás se excederan las 2400 solicitudes por minuto | 40 solicitudes por segundo\n",
    "\n",
    "Asumir que cuando una solicitud llega al servidor, y está ocupado, esta entra en cola (FIFO / PEPS)."
   ]
  },
  {
   "cell_type": "markdown",
   "metadata": {},
   "source": [
    "# Task 1 "
   ]
  },
  {
   "cell_type": "code",
   "execution_count": 36,
   "metadata": {},
   "outputs": [],
   "source": [
    "import numpy as np\n",
    "import random\n",
    "import math"
   ]
  },
  {
   "cell_type": "code",
   "execution_count": 43,
   "metadata": {},
   "outputs": [],
   "source": [
    "lambda_max = 40\n",
    "T = 3600"
   ]
  },
  {
   "cell_type": "code",
   "execution_count": 38,
   "metadata": {},
   "outputs": [],
   "source": [
    "def genT(s):\n",
    "    t = s\n",
    "    u = random.random()\n",
    "    t = t - (1/lambda_max)*math.log(u)\n",
    "    return t"
   ]
  },
  {
   "cell_type": "code",
   "execution_count": 127,
   "metadata": {},
   "outputs": [],
   "source": [
    "def gorilla():\n",
    "    t = Na = Nd = 0\n",
    "    t0 = 0\n",
    "    ta = t0\n",
    "    td = math.inf\n",
    "    A = []\n",
    "    D = [] \n",
    "    Ytotal = []\n",
    "    n = 0\n",
    "    cont =0\n",
    "    while(t < T):\n",
    "        \n",
    "        if(ta <= td and ta <= T):\n",
    "            t = ta\n",
    "            Na += 1\n",
    "            n += 1\n",
    "            Tt = genT(t)\n",
    "            ta = Tt\n",
    "            if n ==1:\n",
    "                Y = np.random.exponential(1/100)\n",
    "                \n",
    "                td = t + Y\n",
    "            A.append(t)\n",
    "            Ytotal.append(Y)\n",
    "        else:\n",
    "            t = td\n",
    "            n -= 1\n",
    "            Nd +=1\n",
    "            if n ==0:\n",
    "                td = math.inf\n",
    "            else:\n",
    "                Y = np.random.exponential(1/100)\n",
    "                td = t + Y\n",
    "            D.append(t)\n",
    "            Ytotal.append(Y)\n",
    "        if(n>1):\n",
    "            cont +=1\n",
    "        if(t >=T):\n",
    "            Tp = td\n",
    "            \n",
    "    return A,D,Ytotal,cont,Tp\n",
    "            \n",
    "        "
   ]
  },
  {
   "cell_type": "code",
   "execution_count": 128,
   "metadata": {},
   "outputs": [
    {
     "data": {
      "text/plain": [
       "143892"
      ]
     },
     "execution_count": 128,
     "metadata": {},
     "output_type": "execute_result"
    }
   ],
   "source": [
    "a,d,Ytot,cont,Tp = gorilla()\n",
    "len(a)"
   ]
  },
  {
   "cell_type": "code",
   "execution_count": 129,
   "metadata": {},
   "outputs": [
    {
     "data": {
      "text/plain": [
       "143893"
      ]
     },
     "execution_count": 129,
     "metadata": {},
     "output_type": "execute_result"
    }
   ],
   "source": [
    "len(d)"
   ]
  },
  {
   "cell_type": "code",
   "execution_count": 130,
   "metadata": {},
   "outputs": [
    {
     "data": {
      "text/plain": [
       "0.8907778844609837"
      ]
     },
     "execution_count": 130,
     "metadata": {},
     "output_type": "execute_result"
    }
   ],
   "source": [
    "ocupado = sum(Ytot)/3600\n",
    "ocupado"
   ]
  },
  {
   "cell_type": "code",
   "execution_count": 131,
   "metadata": {},
   "outputs": [
    {
     "data": {
      "text/plain": [
       "0.10922211553901628"
      ]
     },
     "execution_count": 131,
     "metadata": {},
     "output_type": "execute_result"
    }
   ],
   "source": [
    "libre = 1-ocupado\n",
    "libre"
   ]
  },
  {
   "cell_type": "code",
   "execution_count": 132,
   "metadata": {},
   "outputs": [
    {
     "data": {
      "text/plain": [
       "0.011143042146253423"
      ]
     },
     "execution_count": 132,
     "metadata": {},
     "output_type": "execute_result"
    }
   ],
   "source": [
    "sum(Ytot)/len(Ytot)"
   ]
  },
  {
   "cell_type": "code",
   "execution_count": 133,
   "metadata": {},
   "outputs": [
    {
     "data": {
      "text/plain": [
       "22.398611111111112"
      ]
     },
     "execution_count": 133,
     "metadata": {},
     "output_type": "execute_result"
    }
   ],
   "source": [
    "cont/3600"
   ]
  },
  {
   "cell_type": "code",
   "execution_count": 137,
   "metadata": {},
   "outputs": [
    {
     "data": {
      "text/plain": [
       "3599.996857580476"
      ]
     },
     "execution_count": 137,
     "metadata": {},
     "output_type": "execute_result"
    }
   ],
   "source": [
    "d[-2]"
   ]
  },
  {
   "cell_type": "markdown",
   "metadata": {},
   "source": [
    "o¿Cuántas solicitudes atendió cada servidor?\n",
    "o¿Cuánto tiempo estuvo cada servidor ocupado?\n",
    "o¿Cuánto tiempo estuvo cada servidor desocupado (idle)?\n",
    "o¿Cuánto tiempo en total estuvieron las solicitudesen cola?\n",
    "oEn promedio ¿cuánto tiempo estuvo cada solicituden cola?\n",
    "oEn promedio, ¿cuántas solicitudesestuvieron en colacada segundo?\n",
    "o¿Cuál es el momento de la salida delaúltimasolicitud?"
   ]
  }
 ],
 "metadata": {
  "kernelspec": {
   "display_name": "Python 3",
   "language": "python",
   "name": "python3"
  },
  "language_info": {
   "codemirror_mode": {
    "name": "ipython",
    "version": 3
   },
   "file_extension": ".py",
   "mimetype": "text/x-python",
   "name": "python",
   "nbconvert_exporter": "python",
   "pygments_lexer": "ipython3",
   "version": "3.6.9"
  }
 },
 "nbformat": 4,
 "nbformat_minor": 4
}
