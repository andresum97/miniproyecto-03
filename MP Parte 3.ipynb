{
 "cells": [
  {
   "cell_type": "markdown",
   "metadata": {},
   "source": [
    "# MiniProyecto Parte 3\n",
    "Ana Lucía Hernández - 17138\n",
    "María Fernanda López - 17160"
   ]
  },
  {
   "cell_type": "code",
   "execution_count": 2,
   "metadata": {},
   "outputs": [],
   "source": [
    "import numpy as np"
   ]
  },
  {
   "cell_type": "code",
   "execution_count": 12,
   "metadata": {},
   "outputs": [],
   "source": [
    "class Server():\n",
    "    def __init__(self, potencia, max_sol = 2400, cpus = 1):\n",
    "        # potencia es la cantidad de solicitudes por segundo que puede tomar \n",
    "        # max_sol es la cantidad máxima de solicitudes que se recibirán * por minuto * (lambda_max)\n",
    "        # cpus es la cantidad de servidores que tiene el sistema \n",
    "        self.potencia = potencia\n",
    "        self.lambda_max = max_sol / 60 # se convierte solicitudes/min a solicitudes/seg\n",
    "        self.cpus = cpus\n",
    "    \n",
    "    def next_ts(self, t): # los eventos serán solamente procesos de poisson no homogeneos, así que se programa solo para eso \n",
    "        while True:\n",
    "            t = t - (np.log(np.random.uniform())/self.lambda_max)\n",
    "            if np.random.uniform() <= np.random.poisson(t)/self.lambda_max:\n",
    "                return t\n",
    "\n",
    "    def simulate(self):\n",
    "        # se asumirá que t0 = 0 y T = t0 + 60min = t0+ 3600seg\n",
    "        t = 0 \n",
    "        n = 0 # estado del sistema, numero de solicitudes en el sistema al tiempo t \n",
    "        T = 3600 # max tiempo de duracion es 1hr\n",
    "\n",
    "        # contadores\n",
    "        Na = 0 # llegadas \n",
    "        Nd = 0 # salidas\n",
    "\n",
    "        A = [] # tiempos de llegada de la i-esima solicitud, ids son indices\n",
    "        D = [] # tiempos de salida de la i-esima solicitud, ids son indices\n",
    "        NT = [] # Tiempos de cada cliente en espera\n",
    "\n",
    "        # eventos\n",
    "        ta = self.next_ts(t) # tiempo de la proxima llegada\n",
    "        td = np.zeros(self.cpus) + np.infty # set de tiempos de salida de cada servidor a infty, hay un td por cada server disponible\n",
    "        busy_time = np.zeros(self.cpus) # tiempo que cada server estuvo ocupado\n",
    "        served_by = [] # se guardan cuales solicitudes fueron atendidas por cuales server\n",
    "        servers = np.zeros(self.cpus) # para llevar registro de quien esta ocupado y quien no\n",
    "\n",
    "        while t < T: # el tiempo en el que estamos aún no excede el tiempo de cierre\n",
    "            # CASO 1 \n",
    "            # si el proximo tiempo de llegada es antes del proximo tiempo de salida, se encola\n",
    "            if ta <= min(td):\n",
    "                t = ta # nos posicionamos en el próximo tiempo de llegada\n",
    "                Na += 1 # Contamos una llegada mas\n",
    "                ta = self.next_ts(t) # calculamos el siguiente tiempo de llegada\n",
    "                A.append(t) # guardamos el tiempo de la Na-esima llegada\n",
    "                if n < self.cpus: # si hay menos clientes dentro que servidores, se le asigna uno que esté disponible\n",
    "                    for i in range(self.cpus):\n",
    "                        if servers[i] == 0: # Si el servidor esta disponible\n",
    "                            servers[i] = 1 # atendemos al Na-esimo cliente\n",
    "                            NT = np.append(NT,t - A[len(A)-1])\n",
    "                            # NT.append(t-A[len(A)-1])\n",
    "                            # served_by.append(i) # se agrega el server que atendio el # de solicitud\n",
    "                            td[i] = t + np.random.exponential(1/self.potencia) # calculamos su tiempo de salida y se lo asignamos a un servidor\n",
    "                            busy_time[i] += td[i]-t # Calculamos el tiempo que va a estar en el servidor\n",
    "                            break;\n",
    "                n += 1 # Contamos al nuevo cliente en el sistema\n",
    "            \n",
    "            # CASO 2\n",
    "            # si el proximo tiempo de llegada es después del próximo tiempo de salida, se atiende inmediatamente ya que\n",
    "            # se tiene la disponibilidad\n",
    "            else:\n",
    "                ti = np.argmin(td) # Escogemos al servidor que se desocupa primero\n",
    "                t = td[ti] # avanzamos el tiempo al tiempo en que se desocupa\n",
    "                served_by.append(ti) # se agrega el server que atendio el # de solicitud\n",
    "                D.append(t)\n",
    "                if n <= self.cpus: # Si hay menos o igual clientes que servidores\n",
    "                    # ids[ti] = 0 # Despachamos al cliente del servidor a desocupar\n",
    "                    servers[ti] = 0 # liberamos el server\n",
    "                    td[ti] = np.infty # seteamosel td a infty para indicar que aun no tiene otra solicitud\n",
    "                else: # Si todavia hay mas clientes por atender\n",
    "                    served_by.append(ti) # se agrega el server que atendio el # de solicitud\n",
    "                    NT = np.append(NT,t - A[len(A)-1])\n",
    "                    td[ti] = t + np.random.exponential(1/self.potencia) # Calculamos el tiempo de salida\n",
    "                    busy_time[ti] += td[ti]-t # Calculamos el tiempo que va a estar en el servidor\n",
    "                n -= 1 # Descontamos al cliente atendido del sistema\n",
    "        # se calcula cuantas solicitudes atendio cada servidor \n",
    "        C = np.zeros(self.cpus)\n",
    "        for i in range(len(served_by)):\n",
    "            C[served_by[i]] += 1\n",
    "\n",
    "        return { \n",
    "            \"Na\": Na, \"Nd\":sum(C), \"n\":n, \"ta\": ta, \\\n",
    "            \"C\": C, \"td\":td, \"A\": A, \"D\": D, \"Ocupado\": busy_time, \"NT\": NT\n",
    "        }"
   ]
  },
  {
   "cell_type": "code",
   "execution_count": null,
   "metadata": {},
   "outputs": [],
   "source": []
  },
  {
   "cell_type": "markdown",
   "metadata": {},
   "source": [
    "## Task 1 - Gorilla Megacomputing"
   ]
  },
  {
   "cell_type": "code",
   "execution_count": 16,
   "metadata": {
    "tags": []
   },
   "outputs": [],
   "source": [
    "gorilla = Server(potencia = 100)\n",
    "resultados = gorilla.simulate()"
   ]
  },
  {
   "cell_type": "code",
   "execution_count": 18,
   "metadata": {
    "tags": []
   },
   "outputs": [
    {
     "name": "stdout",
     "output_type": "stream",
     "text": [
      "\tSolicitudes atendidas:  [201026.]\n",
      "\tTiempos de ocupacion de servidores:  [1436.52478158]\n",
      "\tTiempos libres de servidores:  [2163.47521842]\n",
      "\tTiempo de solicitudes en cola:  577.259\n",
      "\tPromedio de solicitudes en cola: 0.004\n",
      "\tTiempo de salida de la ultima solicitud atendida:  3600.047\n",
      "\n"
     ]
    }
   ],
   "source": [
    "\n",
    "# print(\"\\t\",proveedor[\"nombre\"],\", CPUS: \",proveedor[\"no_cpus\"],\", Velocidad:\",np.round(proveedor[\"velocidad\"],5),\"/s\")\n",
    "print(\"\\tSolicitudes atendidas: \",resultados[\"C\"])\n",
    "print(\"\\tTiempos de ocupacion de servidores: \", resultados[\"Ocupado\"])\n",
    "print(\"\\tTiempos libres de servidores: \",np.maximum(np.ones(gorilla.cpus)*3600 - resultados[\"Ocupado\"],0))\n",
    "print(\"\\tTiempo de solicitudes en cola: \",np.round(sum(resultados[\"NT\"]),3))\n",
    "print(\"\\tPromedio de solicitudes en cola:\",np.round(np.mean(resultados[\"NT\"]),3))\n",
    "print(\"\\tTiempo de salida de la ultima solicitud atendida: \",np.round(resultados[\"td\"][-1],3))\n",
    "print(\"\")"
   ]
  },
  {
   "cell_type": "markdown",
   "metadata": {},
   "source": [
    "### ¿Cuántas solicitudes atendió cada servidor?\n",
    "\n",
    "\n",
    "\n"
   ]
  },
  {
   "cell_type": "markdown",
   "metadata": {},
   "source": [
    "### ¿Cuánto tiempo estuvo cada servidor ocupado?"
   ]
  },
  {
   "cell_type": "markdown",
   "metadata": {},
   "source": [
    "### ¿Cuánto tiempo estuvo cada servidor desocupado (idle)?"
   ]
  },
  {
   "cell_type": "markdown",
   "metadata": {},
   "source": [
    "### Cuánto tiempo en total estuvieron las solicitudesen cola?"
   ]
  },
  {
   "cell_type": "markdown",
   "metadata": {},
   "source": [
    "### En promedio ¿cuánto tiempo estuvo cada solicituden cola?"
   ]
  },
  {
   "cell_type": "markdown",
   "metadata": {},
   "source": [
    "### En promedio, ¿cuántas solicitudes estuvieron en colacada segundo?"
   ]
  },
  {
   "cell_type": "markdown",
   "metadata": {},
   "source": [
    "### ¿Cuál es el momento de la salida de la última solicitud?"
   ]
  },
  {
   "cell_type": "code",
   "execution_count": null,
   "metadata": {},
   "outputs": [],
   "source": []
  }
 ],
 "metadata": {
  "kernelspec": {
   "display_name": "Python 3.8.5 64-bit",
   "metadata": {
    "interpreter": {
     "hash": "082e9a3bcad0a290d0001e938aa60b99250c6c2ef33a923c00b70f9826caf4b7"
    }
   },
   "name": "Python 3.8.5 64-bit"
  },
  "language_info": {
   "codemirror_mode": {
    "name": "ipython",
    "version": 3
   },
   "file_extension": ".py",
   "mimetype": "text/x-python",
   "name": "python",
   "nbconvert_exporter": "python",
   "pygments_lexer": "ipython3",
   "version": "3.8.5-final"
  }
 },
 "nbformat": 4,
 "nbformat_minor": 2
}
